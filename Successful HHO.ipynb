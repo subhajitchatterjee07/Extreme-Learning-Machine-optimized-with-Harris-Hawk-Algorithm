{
 "cells": [
  {
   "cell_type": "markdown",
   "id": "e1739456",
   "metadata": {},
   "source": [
    "# USING HARRIS HAWK OPTIMIZATION TO OPTIMIZE AN EXTREME LEARNING    MACHINE (ELM)"
   ]
  },
  {
   "cell_type": "markdown",
   "id": "1273a906",
   "metadata": {},
   "source": [
    "### IMPORTING THE NECESSARY LIBRARIES"
   ]
  },
  {
   "cell_type": "code",
   "execution_count": 1,
   "id": "ba14b3e0",
   "metadata": {},
   "outputs": [],
   "source": [
    "import numpy as np\n",
    "import pandas as pd\n",
    "from sklearn.preprocessing import StandardScaler\n",
    "\n",
    "def sigmoid(x):\n",
    "    return 1 / (1 + np.exp(-x))"
   ]
  },
  {
   "cell_type": "markdown",
   "id": "81a58cf2",
   "metadata": {},
   "source": [
    "### DEFINING THE ELM"
   ]
  },
  {
   "cell_type": "code",
   "execution_count": 2,
   "id": "3946f1f5",
   "metadata": {},
   "outputs": [],
   "source": [
    "class ELM:\n",
    "    def __init__(self, n_input_nodes, n_hidden_nodes, n_output_nodes):\n",
    "        self.n_input_nodes = n_input_nodes\n",
    "        self.n_hidden_nodes = n_hidden_nodes\n",
    "        self.n_output_nodes = n_output_nodes\n",
    "        self.input_weights = np.random.normal(size=[self.n_input_nodes, self.n_hidden_nodes])\n",
    "        self.biases = np.random.normal(size=[self.n_hidden_nodes])\n",
    "        self.output_weights = np.random.normal(size=[self.n_hidden_nodes, self.n_output_nodes])\n",
    "\n",
    "    def predict(self, X):\n",
    "        H = sigmoid(np.dot(X, self.input_weights) + self.biases)\n",
    "        return sigmoid(np.dot(H, self.output_weights))\n",
    "\n"
   ]
  },
  {
   "cell_type": "markdown",
   "id": "07e90563",
   "metadata": {},
   "source": [
    "### DEFINING THE HARRIS HAWK OPTIMIZATION"
   ]
  },
  {
   "cell_type": "code",
   "execution_count": 3,
   "id": "e173da48",
   "metadata": {},
   "outputs": [],
   "source": [
    "class HHO:\n",
    "    def __init__(self, max_iter=1000, pop_size=50):\n",
    "        self.max_iter = max_iter\n",
    "        self.pop_size = pop_size\n",
    "\n",
    "    def optimize(self, elm_model, X_train, y_train):\n",
    "        lb = -1\n",
    "        ub = 1\n",
    "        dim = elm_model.n_input_nodes * elm_model.n_hidden_nodes + elm_model.n_hidden_nodes + elm_model.n_hidden_nodes * elm_model.n_output_nodes\n",
    "        X = np.random.uniform(lb, ub, [self.pop_size, dim])\n",
    "        fitness = np.zeros([self.pop_size])\n",
    "        for i in range(self.max_iter):\n",
    "            \n",
    "            # Calculate fitness of each individual\n",
    "            \n",
    "            for j in range(self.pop_size):\n",
    "                individual = X[j]\n",
    "                input_weights = individual[:elm_model.n_input_nodes * elm_model.n_hidden_nodes].reshape([elm_model.n_input_nodes, elm_model.n_hidden_nodes])\n",
    "                biases = individual[elm_model.n_input_nodes * elm_model.n_hidden_nodes : elm_model.n_input_nodes * elm_model.n_hidden_nodes + elm_model.n_hidden_nodes]\n",
    "                output_weights = individual[elm_model.n_input_nodes * elm_model.n_hidden_nodes + elm_model.n_hidden_nodes:].reshape([elm_model.n_hidden_nodes, elm_model.n_output_nodes])\n",
    "                elm_model.input_weights = input_weights\n",
    "                elm_model.biases = biases\n",
    "                elm_model.output_weights = output_weights\n",
    "                y_pred = elm_model.predict(X_train)\n",
    "                fitness[j] = -np.mean(np.abs(y_pred - y_train))\n",
    "            \n",
    "            # Sort population by fitness\n",
    "            \n",
    "            sorted_indices = np.argsort(fitness)\n",
    "            X_sorted = X[sorted_indices]\n",
    "            fitness_sorted = fitness[sorted_indices]\n",
    "            \n",
    "            # Update position of each individual\n",
    "            \n",
    "            for j in range(self.pop_size):\n",
    "                if j < self.pop_size // 2:\n",
    "                    \n",
    "                    # Perform exploration\n",
    "                    \n",
    "                    r1 = np.random.uniform()\n",
    "                    r2 = np.random.uniform()\n",
    "                    A1 = 2 * r1 - 1\n",
    "                    C1 = 2 * r2\n",
    "                    D_alpha_Xj_minus_Xi = np.abs(C1 * X_sorted[j] - X_sorted[int(np.floor(self.pop_size / 2))] * A1)\n",
    "                    X_new_j = X_sorted[j] + D_alpha_Xj_minus_Xi\n",
    "                else:\n",
    "                    \n",
    "                    # Perform exploitation\n",
    "                    \n",
    "                    r1 = np.random.uniform()\n",
    "                    r2 = np.random.uniform()\n",
    "                    A2 = 2 * r1 - 1\n",
    "                    C2 = 2 * r2\n",
    "                    D_alpha_Xbest_minus_Xj = np.abs(C2 * X_sorted[0] - X_sorted[j] * A2)\n",
    "                    X_new_j = X_sorted[j] + D_alpha_Xbest_minus_Xj\n",
    "                \n",
    "                # Clip values to [lb, ub]\n",
    "                \n",
    "                X_new_j[X_new_j < lb] = lb\n",
    "                X_new_j[X_new_j > ub] = ub\n",
    "                \n",
    "                # Update position of jth individual in population\n",
    "                \n",
    "                X[j] = X_new_j\n",
    "        \n",
    "        # Set input weights, biases and output weights of ELM model to best individual\n",
    "        \n",
    "        best_individual = X_sorted[0]\n",
    "        input_weights = best_individual[:elm_model.n_input_nodes * elm_model.n_hidden_nodes].reshape([elm_model.n_input_nodes, elm_model.n_hidden_nodes])\n",
    "        biases = best_individual[elm_model.n_input_nodes * elm_model.n_hidden_nodes : elm_model.n_input_nodes * elm_model.n_hidden_nodes + elm_model.n_hidden_nodes]\n",
    "        output_weights = best_individual[elm_model.n_input_nodes * elm_model.n_hidden_nodes + elm_model.n_hidden_nodes:].reshape([elm_model.n_hidden_nodes, elm_model.n_output_nodes])\n",
    "        elm_model.input_weights = input_weights\n",
    "        elm_model.biases = biases\n",
    "        elm_model.output_weights = output_weights\n",
    "        return elm_model\n"
   ]
  },
  {
   "cell_type": "markdown",
   "id": "dfffa70c",
   "metadata": {},
   "source": [
    "### SEPARATE MAIN FUNCTION TO CALL THE ABOVE FUNCTIONS"
   ]
  },
  {
   "cell_type": "code",
   "execution_count": 4,
   "id": "7edf1129",
   "metadata": {},
   "outputs": [],
   "source": [
    "if __name__ == '__main__':\n",
    "    # Load data\n",
    "    df = pd.read_csv('kc1.csv')\n",
    "    X = df.iloc[:, :-1].values\n",
    "    y = df.iloc[:, -1].values.reshape([-1, 1])\n",
    "    y = y.astype(int)\n",
    "    scaler = StandardScaler()\n",
    "    X = scaler.fit_transform(X)\n",
    "    # Split data into training set and test set\n",
    "    n_samples = X.shape[0]\n",
    "    n_train_samples = int(n_samples * 0.7)\n",
    "    indices = np.random.permutation(n_samples)\n",
    "    X_train = X[indices[:n_train_samples]]\n",
    "    y_train = y[indices[:n_train_samples]]\n",
    "    X_test = X[indices[n_train_samples:]]\n",
    "    y_test = y[indices[n_train_samples:]]\n",
    "    # Create ELM model\n",
    "    n_input_nodes = X.shape[1]\n",
    "    n_hidden_nodes = 10\n",
    "    n_output_nodes = 1\n",
    "    elm_model = ELM(n_input_nodes, n_hidden_nodes, n_output_nodes)\n",
    "    # Train ELM model using HHO optimization\n",
    "    hho_optimizer = HHO(max_iter=200, pop_size=50)\n",
    "    optimized_elm_model = hho_optimizer.optimize(elm_model, X_train, y_train)\n",
    "    # Test ELM model\n",
    "    y_pred_test = optimized_elm_model.predict(X_test)\n",
    "    accuracy_test = np.mean(np.round(y_pred_test) == y_test)"
   ]
  },
  {
   "cell_type": "markdown",
   "id": "6eba3710",
   "metadata": {},
   "source": [
    "### TESTING THE ACCURACY OF THE MODEL"
   ]
  },
  {
   "cell_type": "code",
   "execution_count": 5,
   "id": "2127ea1e",
   "metadata": {},
   "outputs": [
    {
     "name": "stdout",
     "output_type": "stream",
     "text": [
      "0.7203791469194313\n",
      "Confusion Matrix:\n",
      "[[404 154]\n",
      " [ 23  52]]\n",
      "Classification Report:\n",
      "              precision    recall  f1-score   support\n",
      "\n",
      "           0       0.95      0.72      0.82       558\n",
      "           1       0.25      0.69      0.37        75\n",
      "\n",
      "    accuracy                           0.72       633\n",
      "   macro avg       0.60      0.71      0.60       633\n",
      "weighted avg       0.86      0.72      0.77       633\n",
      "\n"
     ]
    }
   ],
   "source": [
    "y_pred_test1 = (y_pred_test > 0.75).astype(int)\n",
    "from sklearn.metrics import classification_report, confusion_matrix\n",
    "from sklearn.metrics import accuracy_score\n",
    "accuracy = accuracy_score(y_test, y_pred_test1)\n",
    "print(accuracy)\n",
    "\n",
    "# Print confusion matrix\n",
    "print(\"Confusion Matrix:\")\n",
    "print(confusion_matrix(y_test, y_pred_test1))\n",
    "\n",
    "# Print classification report\n",
    "print(\"Classification Report:\")\n",
    "print(classification_report(y_test, y_pred_test1))"
   ]
  },
  {
   "cell_type": "code",
   "execution_count": 6,
   "id": "e263735c",
   "metadata": {},
   "outputs": [],
   "source": [
    "from sklearn.preprocessing import StandardScaler\n",
    "scaler = StandardScaler()\n",
    "y_pred_test2 = scaler.fit_transform(y_pred_test)\n",
    "y_pred_test2 = (y_pred_test2 > 0.5).astype(int)"
   ]
  },
  {
   "cell_type": "code",
   "execution_count": 7,
   "id": "3e555be8",
   "metadata": {},
   "outputs": [
    {
     "name": "stdout",
     "output_type": "stream",
     "text": [
      "0.7251184834123223\n",
      "Confusion Matrix:\n",
      "[[407 151]\n",
      " [ 23  52]]\n",
      "Classification Report:\n",
      "              precision    recall  f1-score   support\n",
      "\n",
      "           0       0.95      0.73      0.82       558\n",
      "           1       0.26      0.69      0.37        75\n",
      "\n",
      "    accuracy                           0.73       633\n",
      "   macro avg       0.60      0.71      0.60       633\n",
      "weighted avg       0.86      0.73      0.77       633\n",
      "\n"
     ]
    }
   ],
   "source": [
    "from sklearn.metrics import classification_report, confusion_matrix\n",
    "from sklearn.metrics import accuracy_score\n",
    "accuracy = accuracy_score(y_test, y_pred_test2)\n",
    "print(accuracy)\n",
    "# Print confusion matrix\n",
    "print(\"Confusion Matrix:\")\n",
    "print(confusion_matrix(y_test, y_pred_test2))\n",
    "\n",
    "# Print classification report\n",
    "print(\"Classification Report:\")\n",
    "print(classification_report(y_test, y_pred_test2))\n"
   ]
  },
  {
   "cell_type": "code",
   "execution_count": null,
   "id": "071e0b05",
   "metadata": {},
   "outputs": [],
   "source": []
  }
 ],
 "metadata": {
  "kernelspec": {
   "display_name": "Python 3 (ipykernel)",
   "language": "python",
   "name": "python3"
  },
  "language_info": {
   "codemirror_mode": {
    "name": "ipython",
    "version": 3
   },
   "file_extension": ".py",
   "mimetype": "text/x-python",
   "name": "python",
   "nbconvert_exporter": "python",
   "pygments_lexer": "ipython3",
   "version": "3.9.7"
  }
 },
 "nbformat": 4,
 "nbformat_minor": 5
}
